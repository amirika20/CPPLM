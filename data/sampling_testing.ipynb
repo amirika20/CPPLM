{
 "cells": [
  {
   "cell_type": "markdown",
   "metadata": {},
   "source": [
    "## Kolmogorov-Smirnov Test"
   ]
  },
  {
   "cell_type": "code",
   "execution_count": 15,
   "metadata": {},
   "outputs": [
    {
     "name": "stdout",
     "output_type": "stream",
     "text": [
      "KS Statistic: 0.067\n",
      "P-Value: 0.022438659451142425\n",
      "The distributions are different.\n"
     ]
    }
   ],
   "source": [
    "import numpy as np\n",
    "from scipy.stats import ks_2samp\n",
    "\n",
    "# Example datasets\n",
    "data1 = np.random.normal(0, 1, 1000)\n",
    "data2 = np.random.normal(0.2, 1, 1000)\n",
    "\n",
    "# Perform the KS test\n",
    "ks_statistic, p_value = ks_2samp(data1, data2)\n",
    "\n",
    "print(f\"KS Statistic: {ks_statistic}\")\n",
    "print(f\"P-Value: {p_value}\")\n",
    "\n",
    "# Interpretation\n",
    "if p_value < 0.05:\n",
    "    print(\"The distributions are different.\")\n",
    "else:\n",
    "    print(\"The distributions are the same.\")\n"
   ]
  },
  {
   "cell_type": "code",
   "execution_count": 13,
   "metadata": {},
   "outputs": [
    {
     "name": "stdout",
     "output_type": "stream",
     "text": [
      "U Statistic: 472850.0\n",
      "P-Value: 0.035512503287260064\n",
      "The distributions are different.\n"
     ]
    }
   ],
   "source": [
    "import numpy as np\n",
    "from scipy.stats import mannwhitneyu\n",
    "\n",
    "# Example datasets\n",
    "data1 = np.random.normal(0, 1, 1000)\n",
    "data2 = np.random.normal(0.1, 1, 1000)\n",
    "\n",
    "# Perform the Mann-Whitney U test\n",
    "u_statistic, p_value = mannwhitneyu(data1, data2)\n",
    "\n",
    "print(f\"U Statistic: {u_statistic}\")\n",
    "print(f\"P-Value: {p_value}\")\n",
    "\n",
    "# Interpretation\n",
    "if p_value < 0.05:\n",
    "    print(\"The distributions are different.\")\n",
    "else:\n",
    "    print(\"The distributions are the same.\")\n"
   ]
  },
  {
   "cell_type": "code",
   "execution_count": 16,
   "metadata": {},
   "outputs": [],
   "source": [
    "import pandas as pd\n",
    "from data import CPP\n",
    "data = pd.read_csv(\"/home/amirka/CPP/CPPLM/data/cpp.csv\").T.to_dict()\n",
    "cpps = [CPP(datapoint[\"sequence\"], datapoint['intensity']) for datapoint in data.values()]\n",
    "seqs = [cpp['sequence'] for cpp in cpps]\n",
    "intensities = [cpp['intensity'] for cpp in cpps]"
   ]
  },
  {
   "cell_type": "code",
   "execution_count": 58,
   "metadata": {},
   "outputs": [
    {
     "ename": "NameError",
     "evalue": "name '__file__' is not defined",
     "output_type": "error",
     "traceback": [
      "\u001b[0;31m---------------------------------------------------------------------------\u001b[0m",
      "\u001b[0;31mNameError\u001b[0m                                 Traceback (most recent call last)",
      "Cell \u001b[0;32mIn[58], line 3\u001b[0m\n\u001b[1;32m      1\u001b[0m \u001b[38;5;28;01mimport\u001b[39;00m \u001b[38;5;21;01mos\u001b[39;00m\n\u001b[1;32m      2\u001b[0m \u001b[38;5;28;01mimport\u001b[39;00m \u001b[38;5;21;01msys\u001b[39;00m\n\u001b[0;32m----> 3\u001b[0m sys\u001b[38;5;241m.\u001b[39mpath\u001b[38;5;241m.\u001b[39mappend(os\u001b[38;5;241m.\u001b[39mpath\u001b[38;5;241m.\u001b[39mabspath(os\u001b[38;5;241m.\u001b[39mpath\u001b[38;5;241m.\u001b[39mjoin(os\u001b[38;5;241m.\u001b[39mpath\u001b[38;5;241m.\u001b[39mdirname(\u001b[38;5;18;43m__file__\u001b[39;49m), \u001b[38;5;124m'\u001b[39m\u001b[38;5;124m..\u001b[39m\u001b[38;5;124m'\u001b[39m)))\n\u001b[1;32m      4\u001b[0m \u001b[38;5;28;01mimport\u001b[39;00m \u001b[38;5;21;01mnumpy\u001b[39;00m \u001b[38;5;28;01mas\u001b[39;00m \u001b[38;5;21;01mnp\u001b[39;00m\n\u001b[1;32m      5\u001b[0m \u001b[38;5;28;01mfrom\u001b[39;00m \u001b[38;5;21;01msklearn\u001b[39;00m\u001b[38;5;21;01m.\u001b[39;00m\u001b[38;5;21;01mmodel_selection\u001b[39;00m \u001b[38;5;28;01mimport\u001b[39;00m train_test_split\n",
      "\u001b[0;31mNameError\u001b[0m: name '__file__' is not defined"
     ]
    }
   ],
   "source": [
    "import os\n",
    "import sys\n",
    "sys.path.append(os.path.abspath(os.path.join(os.path.dirname(__file__), '..')))\n",
    "import numpy as np\n",
    "from sklearn.model_selection import train_test_split\n",
    "from scipy.stats import ks_2samp\n",
    "from tokenization.tokenizer import CPPTokenizer\n",
    "\n",
    "train_data, temp_data = train_test_split(intensities, test_size=0.4)\n",
    "val_data, test_data = train_test_split(temp_data, test_size=0.5)\n",
    "\n",
    "# Verify the distribution using the Kolmogorov-Smirnov test\n",
    "train_val_ks_stat, train_val_p_value = ks_2samp(train_data, val_data)\n",
    "train_test_ks_stat, train_test_p_value = ks_2samp(train_data, test_data)\n",
    "val_test_ks_stat, val_test_p_value = ks_2samp(val_data, test_data)\n",
    "\n",
    "print(f\"Train vs. Validation KS Statistic: {train_val_ks_stat}, P-Value: {train_val_p_value}\")\n",
    "print(f\"Train vs. Test KS Statistic: {train_test_ks_stat}, P-Value: {train_test_p_value}\")\n",
    "print(f\"Validation vs. Test KS Statistic: {val_test_ks_stat}, P-Value: {val_test_p_value}\")\n",
    "\n",
    "# Interpretation\n",
    "if train_val_p_value >= 0.1 and train_test_p_value >= 0.1 and val_test_p_value >= 0.1:\n",
    "    print(\"The distributions are similar across training, validation, and test sets.\")\n",
    "else:\n",
    "    print(\"There is a significant difference in the distributions.\")"
   ]
  }
 ],
 "metadata": {
  "kernelspec": {
   "display_name": "Python 3",
   "language": "python",
   "name": "python3"
  },
  "language_info": {
   "codemirror_mode": {
    "name": "ipython",
    "version": 3
   },
   "file_extension": ".py",
   "mimetype": "text/x-python",
   "name": "python",
   "nbconvert_exporter": "python",
   "pygments_lexer": "ipython3",
   "version": "3.10.12"
  }
 },
 "nbformat": 4,
 "nbformat_minor": 2
}
